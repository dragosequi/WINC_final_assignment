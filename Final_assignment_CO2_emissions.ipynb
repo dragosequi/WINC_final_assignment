{
  "nbformat": 4,
  "nbformat_minor": 0,
  "metadata": {
    "colab": {
      "provenance": [],
      "collapsed_sections": [
        "fxtnpcEc93m2"
      ]
    },
    "kernelspec": {
      "name": "python3",
      "display_name": "Python 3"
    },
    "language_info": {
      "name": "python"
    }
  },
  "cells": [
    {
      "cell_type": "markdown",
      "metadata": {
        "id": "view-in-github"
      },
      "source": [
        "<a href=\"https://colab.research.google.com/github/imlilalex/WINCFinalAssignment/blob/main/Final_assignment_CO2_emissions.ipynb\" target=\"_parent\"><img src=\"https://colab.research.google.com/assets/colab-badge.svg\" alt=\"Open In Colab\"/></a>"
      ]
    },
    {
      "cell_type": "markdown",
      "source": [
        "# Questions to Answer\n",
        "\n",
        "1.   What is the biggest predictor of a large CO2 output per capita of a country?\n",
        "2.   Which countries are making the biggest strides in decreasing CO2 output?\n",
        "3.   Which non-fossil fuel energy technology will have the best price in the future?\n"
      ],
      "metadata": {
        "id": "58QrkzMo6gla"
      }
    },
    {
      "cell_type": "code",
      "execution_count": null,
      "metadata": {
        "id": "6Q5d2YJ16gBO"
      },
      "outputs": [],
      "source": [
        "import numpy as np\n",
        "import pandas as pd\n",
        "import matplotlib.pyplot as plt\n",
        "from sklearn.linear_model import LinearRegression\n",
        "\n",
        "%load_ext google.colab.data_table"
      ]
    },
    {
      "cell_type": "code",
      "source": [
        "emissions_file = 'annual-co2-emissions-per-country.csv'\n",
        "capita_file = 'co-emissions-per-capita.csv'\n",
        "gdp_file = 'gdp-per-capita-maddison-2020.csv'\n",
        "energy_file = 'per-capita-energy-source-stacked.csv'\n",
        "cars_file = 'road-motor-vehicle-ownership-per-1000-people-2014.csv'\n",
        "\n",
        "cost_file = 'levelized-cost-of-energy.csv'\n",
        "\n",
        "emissions = pd.read_csv(emissions_file)\n",
        "capita = pd.read_csv(capita_file)\n",
        "gdp = pd.read_csv(gdp_file)\n",
        "energy = pd.read_csv(energy_file)\n",
        "cars = pd.read_csv(cars_file)\n",
        "\n",
        "cost = pd.read_csv(cost_file)"
      ],
      "metadata": {
        "id": "C57muiDh7FR1"
      },
      "execution_count": null,
      "outputs": []
    },
    {
      "cell_type": "markdown",
      "source": [
        "# What is the biggest predictor of a large CO2 output per capita of a country?"
      ],
      "metadata": {
        "id": "q_2PSc3Q_6Kf"
      }
    },
    {
      "cell_type": "code",
      "source": [
        "# emissions columns = entity, code, year, annual co2 emissions\n",
        "# capita columns = entity, code, year, annual co2 emissions (per capita)\n",
        "# gdp columns = entity, code, year, GDP per capita, 417485-annotations\n",
        "\n",
        "\n",
        "emissions_capita = pd.merge(emissions, capita, on=['Entity', 'Code', 'Year'])\n",
        "emissions_capita_gdp = pd.merge(emissions_capita, gdp, on=['Entity', 'Code', 'Year'])\n",
        "energy_cars = pd.merge(energy, cars, on=['Entity', 'Code', 'Year'])\n",
        "\n",
        "emissions_capita_gdp.drop(columns = [\"417485-annotations\", \"Code\"], inplace = True)\n",
        "energy_cars.drop(columns = 'Code', inplace = True)\n",
        "\n",
        "df = pd.merge(emissions_capita_gdp, energy_cars, on=['Entity', 'Year'])\n",
        "\n",
        "# only consider 2014 (most recent year with complete data)\n",
        "df_2014 = df[df['Year'].astype(str).str.contains('2014')]\n",
        "\n",
        "\n",
        "df_2014.columns = ['country', 'year', 'annual_co2', 'annual_co2_per_cap', 'gdp_per_cap', 'fossil_per_cap', 'nuclear_per_cap', 'renewable_per_cap', 'motor_vehicles_per_1000']"
      ],
      "metadata": {
        "id": "JnwjC2N4_3Yt"
      },
      "execution_count": null,
      "outputs": []
    },
    {
      "cell_type": "code",
      "source": [
        "# plot emissions per capita vs. fossil fuels per capita\n",
        "fig3 = plt.figure()\n",
        "fig3, ax = plt.subplots()\n",
        "\n",
        "plt.scatter(df_2014.iloc[:, 3], df_2014.iloc[:, -4])\n",
        "\n",
        "ax.set_ylabel(\"Fossil fuels per capita (kWh)\")\n",
        "ax.set_xlabel(\"Annual CO₂ emissions (per capita)\")\n",
        "ax.set_title(\"Comparison Between CO2 Emissions and Fossil Fuel Usage per Capita\")"
      ],
      "metadata": {
        "colab": {
          "base_uri": "https://localhost:8080/",
          "height": 332
        },
        "id": "zRB14tGvU7Br",
        "outputId": "5141d2c7-34ae-4d60-e24b-d5fecd1d1aaa"
      },
      "execution_count": null,
      "outputs": [
        {
          "output_type": "execute_result",
          "data": {
            "text/plain": [
              "Text(0.5, 1.0, 'Comparison Between CO2 Emissions and Fossil Fuel Usage per Capita')"
            ]
          },
          "metadata": {},
          "execution_count": 4
        },
        {
          "output_type": "display_data",
          "data": {
            "text/plain": [
              "<Figure size 432x288 with 0 Axes>"
            ]
          },
          "metadata": {}
        },
        {
          "output_type": "display_data",
          "data": {
            "text/plain": [
              "<Figure size 432x288 with 1 Axes>"
            ],
            "image/png": "[encoded data removed]"
          },
          "metadata": {
            "needs_background": "light"
          }
        }
      ]
    },
    {
      "cell_type": "code",
      "source": [
        "# plot emissions per capita vs. gdp\n",
        "fig4 = plt.figure()\n",
        "fig4, ax = plt.subplots()\n",
        "\n",
        "plt.scatter(df_2014.iloc[:, 3], df_2014.iloc[:, 4])\n",
        "\n",
        "ax.set_ylabel(\"GDP per capita\")\n",
        "ax.set_xlabel(\"Annual CO₂ emissions (per capita)\")\n",
        "ax.set_title(\"Comparison Between CO2 Emissions and GDP per Capita\")"
      ],
      "metadata": {
        "colab": {
          "base_uri": "https://localhost:8080/",
          "height": 332
        },
        "id": "dj1LZIfwbSCE",
        "outputId": "720c76c9-d643-47a8-ec06-6833e140969e"
      },
      "execution_count": null,
      "outputs": [
        {
          "output_type": "execute_result",
          "data": {
            "text/plain": [
              "Text(0.5, 1.0, 'Comparison Between CO2 Emissions and GDP per Capita')"
            ]
          },
          "metadata": {},
          "execution_count": 5
        },
        {
          "output_type": "display_data",
          "data": {
            "text/plain": [
              "<Figure size 432x288 with 0 Axes>"
            ]
          },
          "metadata": {}
        },
        {
          "output_type": "display_data",
          "data": {
            "text/plain": [
              "<Figure size 432x288 with 1 Axes>"
            ],
            "image/png": "[encoded data removed]"
          },
          "metadata": {
            "needs_background": "light"
          }
        }
      ]
    },
    {
      "cell_type": "code",
      "source": [
        "# plot emissions per capita vs. gdp\n",
        "fig4 = plt.figure()\n",
        "fig4, ax = plt.subplots()\n",
        "\n",
        "plt.scatter(df_2014.iloc[:, 3], df_2014.iloc[:, -1])\n",
        "\n",
        "ax.set_ylabel(\"Motor vehicles per 1000 people\")\n",
        "ax.set_xlabel(\"Annual CO₂ emissions (per capita)\")\n",
        "ax.set_title(\"Comparison Between CO2 Emissions and Motor Vehicles\")"
      ],
      "metadata": {
        "colab": {
          "base_uri": "https://localhost:8080/",
          "height": 332
        },
        "id": "AqW4AYnYd3o3",
        "outputId": "4deaab22-bb52-474a-c41e-112d424ddb14"
      },
      "execution_count": null,
      "outputs": [
        {
          "output_type": "execute_result",
          "data": {
            "text/plain": [
              "Text(0.5, 1.0, 'Comparison Between CO2 Emissions and Motor Vehicles')"
            ]
          },
          "metadata": {},
          "execution_count": 6
        },
        {
          "output_type": "display_data",
          "data": {
            "text/plain": [
              "<Figure size 432x288 with 0 Axes>"
            ]
          },
          "metadata": {}
        },
        {
          "output_type": "display_data",
          "data": {
            "text/plain": [
              "<Figure size 432x288 with 1 Axes>"
            ],
            "image/png": "[encoded data removed]"
          },
          "metadata": {
            "needs_background": "light"
          }
        }
      ]
    },
    {
      "cell_type": "code",
      "source": [
        "# calculate pearson correlation\n",
        "fossil_correlation = df_2014[['fossil_per_cap','annual_co2_per_cap']].corr().iloc[0::2,-1]\n",
        "#  value = 0.912807\n",
        "\n",
        "gdp_correlation = df_2014[['gdp_per_cap','annual_co2_per_cap']].corr().iloc[0::2,-1]\n",
        "#  value = 0.745111\n",
        "\n",
        "cars_correlation = df_2014[['motor_vehicles_per_1000','annual_co2_per_cap']].corr().iloc[0::2,-1]\n",
        "#  value = 0.399565\n",
        "\n",
        "nuclear_correlation = df_2014[['nuclear_per_cap','annual_co2_per_cap']].corr().iloc[0::2,-1]\n",
        "#  value = -0.007222\n",
        "\n",
        "renewable_correlation = df_2014[['renewable_per_cap','annual_co2_per_cap']].corr().iloc[0::2,-1]\n",
        "#  value = 0.03402"
      ],
      "metadata": {
        "id": "_CTqpVftfEGo"
      },
      "execution_count": null,
      "outputs": []
    },
    {
      "cell_type": "code",
      "source": [
        "# df_2014.sort_values(\"fossil_per_cap\").tail()\n",
        "df_2014.sort_values(\"annual_co2_per_cap\").tail()"
      ],
      "metadata": {
        "colab": {
          "base_uri": "https://localhost:8080/",
          "height": 198
        },
        "id": "M_Pdkz_7vOdx",
        "outputId": "2d0c20e4-3543-48d8-fcfe-b1cf4a276878"
      },
      "execution_count": null,
      "outputs": [
        {
          "output_type": "execute_result",
          "data": {
            "text/plain": [
              "                 country  year   annual_co2  annual_co2_per_cap  gdp_per_cap  \\\n",
              "57          Saudi Arabia  2014  612841900.0           19.076452      50693.0   \n",
              "37                Kuwait  2014   75623530.0           20.104140      72508.0   \n",
              "73  United Arab Emirates  2014  201713380.0           22.828695      72601.0   \n",
              "69   Trinidad and Tobago  2014   46891730.0           32.324345      30842.0   \n",
              "54                 Qatar  2014   91548760.0           41.341140     155069.0   \n",
              "\n",
              "    fossil_per_cap  nuclear_per_cap  renewable_per_cap  \\\n",
              "57    94626.398438              0.0           4.020368   \n",
              "37   118293.093750              0.0           2.408300   \n",
              "73   121644.515625              0.0          93.637390   \n",
              "69   168166.906250              0.0           8.930732   \n",
              "54   211058.609375              0.0         156.247620   \n",
              "\n",
              "    motor_vehicles_per_1000  \n",
              "57                      336  \n",
              "37                      527  \n",
              "73                      313  \n",
              "69                      353  \n",
              "54                      532  "
            ],
            "text/html": [
              "\n",
              "  <div id=\"df-f8b270a6-a236-4bfd-b3c6-ebf3865e8781\">\n",
              "    <div class=\"colab-df-container\">\n",
              "      <div>\n",
              "<style scoped>\n",
              "    .dataframe tbody tr th:only-of-type {\n",
              "        vertical-align: middle;\n",
              "    }\n",
              "\n",
              "    .dataframe tbody tr th {\n",
              "        vertical-align: top;\n",
              "    }\n",
              "\n",
              "    .dataframe thead th {\n",
              "        text-align: right;\n",
              "    }\n",
              "</style>\n",
              "<table border=\"1\" class=\"dataframe\">\n",
              "  <thead>\n",
              "    <tr style=\"text-align: right;\">\n",
              "      <th></th>\n",
              "      <th>country</th>\n",
              "      <th>year</th>\n",
              "      <th>annual_co2</th>\n",
              "      <th>annual_co2_per_cap</th>\n",
              "      <th>gdp_per_cap</th>\n",
              "      <th>fossil_per_cap</th>\n",
              "      <th>nuclear_per_cap</th>\n",
              "      <th>renewable_per_cap</th>\n",
              "      <th>motor_vehicles_per_1000</th>\n",
              "    </tr>\n",
              "  </thead>\n",
              "  <tbody>\n",
              "    <tr>\n",
              "      <th>57</th>\n",
              "      <td>Saudi Arabia</td>\n",
              "      <td>2014</td>\n",
              "      <td>612841900.0</td>\n",
              "      <td>19.076452</td>\n",
              "      <td>50693.0</td>\n",
              "      <td>94626.398438</td>\n",
              "      <td>0.0</td>\n",
              "      <td>4.020368</td>\n",
              "      <td>336</td>\n",
              "    </tr>\n",
              "    <tr>\n",
              "      <th>37</th>\n",
              "      <td>Kuwait</td>\n",
              "      <td>2014</td>\n",
              "      <td>75623530.0</td>\n",
              "      <td>20.104140</td>\n",
              "      <td>72508.0</td>\n",
              "      <td>118293.093750</td>\n",
              "      <td>0.0</td>\n",
              "      <td>2.408300</td>\n",
              "      <td>527</td>\n",
              "    </tr>\n",
              "    <tr>\n",
              "      <th>73</th>\n",
              "      <td>United Arab Emirates</td>\n",
              "      <td>2014</td>\n",
              "      <td>201713380.0</td>\n",
              "      <td>22.828695</td>\n",
              "      <td>72601.0</td>\n",
              "      <td>121644.515625</td>\n",
              "      <td>0.0</td>\n",
              "      <td>93.637390</td>\n",
              "      <td>313</td>\n",
              "    </tr>\n",
              "    <tr>\n",
              "      <th>69</th>\n",
              "      <td>Trinidad and Tobago</td>\n",
              "      <td>2014</td>\n",
              "      <td>46891730.0</td>\n",
              "      <td>32.324345</td>\n",
              "      <td>30842.0</td>\n",
              "      <td>168166.906250</td>\n",
              "      <td>0.0</td>\n",
              "      <td>8.930732</td>\n",
              "      <td>353</td>\n",
              "    </tr>\n",
              "    <tr>\n",
              "      <th>54</th>\n",
              "      <td>Qatar</td>\n",
              "      <td>2014</td>\n",
              "      <td>91548760.0</td>\n",
              "      <td>41.341140</td>\n",
              "      <td>155069.0</td>\n",
              "      <td>211058.609375</td>\n",
              "      <td>0.0</td>\n",
              "      <td>156.247620</td>\n",
              "      <td>532</td>\n",
              "    </tr>\n",
              "  </tbody>\n",
              "</table>\n",
              "</div>\n",
              "      <button class=\"colab-df-convert\" onclick=\"convertToInteractive('df-f8b270a6-a236-4bfd-b3c6-ebf3865e8781')\"\n",
              "              title=\"Convert this dataframe to an interactive table.\"\n",
              "              style=\"display:none;\">\n",
              "        \n",
              "  <svg xmlns=\"http://www.w3.org/2000/svg\" height=\"24px\"viewBox=\"0 0 24 24\"\n",
              "       width=\"24px\">\n",
              "    <path d=\"M0 0h24v24H0V0z\" fill=\"none\"/>\n",
              "    <path d=\"M18.56 5.44l.94 2.06.94-2.06 2.06-.94-2.06-.94-.94-2.06-.94 2.06-2.06.94zm-11 1L8.5 8.5l.94-2.06 2.06-.94-2.06-.94L8.5 2.5l-.94 2.06-2.06.94zm10 10l.94 2.06.94-2.06 2.06-.94-2.06-.94-.94-2.06-.94 2.06-2.06.94z\"/><path d=\"M17.41 7.96l-1.37-1.37c-.4-.4-.92-.59-1.43-.59-.52 0-1.04.2-1.43.59L10.3 9.45l-7.72 7.72c-.78.78-.78 2.05 0 2.83L4 21.41c.39.39.9.59 1.41.59.51 0 1.02-.2 1.41-.59l7.78-7.78 2.81-2.81c.8-.78.8-2.07 0-2.86zM5.41 20L4 18.59l7.72-7.72 1.47 1.35L5.41 20z\"/>\n",
              "  </svg>\n",
              "      </button>\n",
              "      \n",
              "  <style>\n",
              "    .colab-df-container {\n",
              "      display:flex;\n",
              "      flex-wrap:wrap;\n",
              "      gap: 12px;\n",
              "    }\n",
              "\n",
              "    .colab-df-convert {\n",
              "      background-color: #E8F0FE;\n",
              "      border: none;\n",
              "      border-radius: 50%;\n",
              "      cursor: pointer;\n",
              "      display: none;\n",
              "      fill: #1967D2;\n",
              "      height: 32px;\n",
              "      padding: 0 0 0 0;\n",
              "      width: 32px;\n",
              "    }\n",
              "\n",
              "    .colab-df-convert:hover {\n",
              "      background-color: #E2EBFA;\n",
              "      box-shadow: 0px 1px 2px rgba(60, 64, 67, 0.3), 0px 1px 3px 1px rgba(60, 64, 67, 0.15);\n",
              "      fill: #174EA6;\n",
              "    }\n",
              "\n",
              "    [theme=dark] .colab-df-convert {\n",
              "      background-color: #3B4455;\n",
              "      fill: #D2E3FC;\n",
              "    }\n",
              "\n",
              "    [theme=dark] .colab-df-convert:hover {\n",
              "      background-color: #434B5C;\n",
              "      box-shadow: 0px 1px 3px 1px rgba(0, 0, 0, 0.15);\n",
              "      filter: drop-shadow(0px 1px 2px rgba(0, 0, 0, 0.3));\n",
              "      fill: #FFFFFF;\n",
              "    }\n",
              "  </style>\n",
              "\n",
              "      <script>\n",
              "        const buttonEl =\n",
              "          document.querySelector('#df-f8b270a6-a236-4bfd-b3c6-ebf3865e8781 button.colab-df-convert');\n",
              "        buttonEl.style.display =\n",
              "          google.colab.kernel.accessAllowed ? 'block' : 'none';\n",
              "\n",
              "        async function convertToInteractive(key) {\n",
              "          const element = document.querySelector('#df-f8b270a6-a236-4bfd-b3c6-ebf3865e8781');\n",
              "          const dataTable =\n",
              "            await google.colab.kernel.invokeFunction('convertToInteractive',\n",
              "                                                     [key], {});\n",
              "          if (!dataTable) return;\n",
              "\n",
              "          const docLinkHtml = 'Like what you see? Visit the ' +\n",
              "            '<a target=\"_blank\" href=https://colab.research.google.com/notebooks/data_table.ipynb>data table notebook</a>'\n",
              "            + ' to learn more about interactive tables.';\n",
              "          element.innerHTML = '';\n",
              "          dataTable['output_type'] = 'display_data';\n",
              "          await google.colab.output.renderOutput(dataTable, element);\n",
              "          const docLink = document.createElement('div');\n",
              "          docLink.innerHTML = docLinkHtml;\n",
              "          element.appendChild(docLink);\n",
              "        }\n",
              "      </script>\n",
              "    </div>\n",
              "  </div>\n",
              "  "
            ],
            "application/vnd.google.colaboratory.module+javascript": "\n      import \"https://ssl.gstatic.com/colaboratory/data_table/fb998edc550c7947/data_table.js\";\n\n      window.createDataTable({\n        data: [[{\n            'v': 57,\n            'f': \"57\",\n        },\n\"Saudi Arabia\",\n{\n            'v': 2014,\n            'f': \"2014\",\n        },\n{\n            'v': 612841900.0,\n            'f': \"612841900.0\",\n        },\n{\n            'v': 19.076452,\n            'f': \"19.076452\",\n        },\n{\n            'v': 50693.0,\n            'f': \"50693.0\",\n        },\n{\n            'v': 94626.3984375,\n            'f': \"94626.3984375\",\n        },\n{\n            'v': 0.0,\n            'f': \"0.0\",\n        },\n{\n            'v': 4.020367622375488,\n            'f': \"4.020367622375488\",\n        },\n{\n            'v': 336,\n            'f': \"336\",\n        }],\n [{\n            'v': 37,\n            'f': \"37\",\n        },\n\"Kuwait\",\n{\n            'v': 2014,\n            'f': \"2014\",\n        },\n{\n            'v': 75623530.0,\n            'f': \"75623530.0\",\n        },\n{\n            'v': 20.10414,\n            'f': \"20.10414\",\n        },\n{\n            'v': 72508.0,\n            'f': \"72508.0\",\n        },\n{\n            'v': 118293.09375,\n            'f': \"118293.09375\",\n        },\n{\n            'v': 0.0,\n            'f': \"0.0\",\n        },\n{\n            'v': 2.4083001613616943,\n            'f': \"2.4083001613616943\",\n        },\n{\n            'v': 527,\n            'f': \"527\",\n        }],\n [{\n            'v': 73,\n            'f': \"73\",\n        },\n\"United Arab Emirates\",\n{\n            'v': 2014,\n            'f': \"2014\",\n        },\n{\n            'v': 201713380.0,\n            'f': \"201713380.0\",\n        },\n{\n            'v': 22.828695,\n            'f': \"22.828695\",\n        },\n{\n            'v': 72601.0,\n            'f': \"72601.0\",\n        },\n{\n            'v': 121644.515625,\n            'f': \"121644.515625\",\n        },\n{\n            'v': 0.0,\n            'f': \"0.0\",\n        },\n{\n            'v': 93.63739013671876,\n            'f': \"93.63739013671876\",\n        },\n{\n            'v': 313,\n            'f': \"313\",\n        }],\n [{\n            'v': 69,\n            'f': \"69\",\n        },\n\"Trinidad and Tobago\",\n{\n            'v': 2014,\n            'f': \"2014\",\n        },\n{\n            'v': 46891730.0,\n            'f': \"46891730.0\",\n        },\n{\n            'v': 32.324345,\n            'f': \"32.324345\",\n        },\n{\n            'v': 30842.0,\n            'f': \"30842.0\",\n        },\n{\n            'v': 168166.90625,\n            'f': \"168166.90625\",\n        },\n{\n            'v': 0.0,\n            'f': \"0.0\",\n        },\n{\n            'v': 8.930731773376465,\n            'f': \"8.930731773376465\",\n        },\n{\n            'v': 353,\n            'f': \"353\",\n        }],\n [{\n            'v': 54,\n            'f': \"54\",\n        },\n\"Qatar\",\n{\n            'v': 2014,\n            'f': \"2014\",\n        },\n{\n            'v': 91548760.0,\n            'f': \"91548760.0\",\n        },\n{\n            'v': 41.34114,\n            'f': \"41.34114\",\n        },\n{\n            'v': 155069.0,\n            'f': \"155069.0\",\n        },\n{\n            'v': 211058.609375,\n            'f': \"211058.609375\",\n        },\n{\n            'v': 0.0,\n            'f': \"0.0\",\n        },\n{\n            'v': 156.24761962890625,\n            'f': \"156.24761962890625\",\n        },\n{\n            'v': 532,\n            'f': \"532\",\n        }]],\n        columns: [[\"number\", \"index\"], [\"string\", \"country\"], [\"number\", \"year\"], [\"number\", \"annual_co2\"], [\"number\", \"annual_co2_per_cap\"], [\"number\", \"gdp_per_cap\"], [\"number\", \"fossil_per_cap\"], [\"number\", \"nuclear_per_cap\"], [\"number\", \"renewable_per_cap\"], [\"number\", \"motor_vehicles_per_1000\"]],\n        columnOptions: [{\"width\": \"1px\", \"className\": \"index_column\"}],\n        rowsPerPage: 25,\n        helpUrl: \"https://colab.research.google.com/notebooks/data_table.ipynb\",\n        suppressOutputScrolling: true,\n        minimumWidth: undefined,\n      });\n    "
          },
          "metadata": {},
          "execution_count": 8
        }
      ]
    },
    {
      "cell_type": "markdown",
      "source": [
        "# Which countries are making the biggest strides in decreasing CO2 output?"
      ],
      "metadata": {
        "id": "P2JwpT1zMGnR"
      }
    },
    {
      "cell_type": "code",
      "source": [
        "output_df = emissions.pivot(index='Entity', columns='Year', values='Annual CO₂ emissions')\n",
        "cap_output_df =  capita.pivot(index='Entity', columns='Year', values='Annual CO₂ emissions (per capita)')\n",
        "\n",
        "# Select only last 30 years\n",
        "output_df = output_df.drop(columns = output_df.columns[:-31])\n",
        "cap_output_df = cap_output_df.drop(columns = cap_output_df.columns[:-31])\n",
        "\n",
        "# Calculate a more relative change between 1991 and 2021\n",
        "output_df['change'] = (output_df.loc[:, 2021] - output_df.loc[:, 1991])\n",
        "output_df['relative'] = (output_df.loc[:, 'change'] / output_df.loc[:, 1991]) * 100\n",
        "\n",
        "cap_output_df['change'] = (cap_output_df.loc[:, 2021] - cap_output_df.loc[:, 1991])\n",
        "cap_output_df['relative'] = (cap_output_df.loc[:, 'change'] / cap_output_df.loc[:, 1991]) * 100\n",
        "\n",
        "# Sort to get biggest/smallest changes\n",
        "big_change = output_df.sort_values(\"relative\")\n",
        "cap_big_change = cap_output_df.sort_values(\"relative\")\n",
        "\n",
        "big_change['country'] = big_change.index\n",
        "cap_big_change['country'] = cap_big_change.index\n",
        "\n",
        "\n",
        "cap_big_change.sort_values(\"relative\").head(10)"
      ],
      "metadata": {
        "colab": {
          "base_uri": "https://localhost:8080/",
          "height": 558
        },
        "id": "0uZwxPF2MJYO",
        "outputId": "ab0b58a0-e559-435e-8c04-5492d1c62627"
      },
      "execution_count": null,
      "outputs": [
        {
          "output_type": "stream",
          "name": "stdout",
          "text": [
            "Warning: Total number of columns (34) exceeds max_columns (20). Falling back to pandas display.\n"
          ]
        },
        {
          "output_type": "execute_result",
          "data": {
            "text/plain": [
              "Year                                1991       1992       1993       1994  \\\n",
              "Entity                                                                      \n",
              "Kuwait                        367.927920  18.294262  29.709675  33.651417   \n",
              "Moldova                         6.576870   4.667079   3.526229   2.772321   \n",
              "French Guiana                   6.848721   6.665894   6.828456   5.842478   \n",
              "Democratic Republic of Congo    0.084222   0.073260   0.067263   0.040909   \n",
              "Somalia                         0.105097   0.105900   0.096730   0.090436   \n",
              "Estonia                        21.805168  15.855051  12.921608  13.583890   \n",
              "Ukraine                        12.241189  11.375081   9.853518   8.143090   \n",
              "Nauru                          12.551738  11.910166  11.082447  10.678065   \n",
              "Syria                           3.301508   3.235058   3.340578   3.317626   \n",
              "Singapore                      14.175187  14.695797  14.894979  17.473871   \n",
              "\n",
              "Year                               1995       1996       1997       1998  \\\n",
              "Entity                                                                     \n",
              "Kuwait                        32.980118  29.303770  31.036915  28.336819   \n",
              "Moldova                        2.556556   2.638051   1.661740   1.480139   \n",
              "French Guiana                  5.276881   4.195408   3.765573   4.285594   \n",
              "Democratic Republic of Congo   0.048598   0.052383   0.041842   0.036071   \n",
              "Somalia                        0.081695   0.076002   0.069639   0.063667   \n",
              "Estonia                       12.435780  13.272953  13.144341  12.005937   \n",
              "Ukraine                        7.635232   6.942628   6.781885   6.605106   \n",
              "Nauru                         10.280186   9.893153   9.877913   9.512308   \n",
              "Syria                          2.878422   2.877322   3.004368   3.209970   \n",
              "Singapore                     11.441089  13.147368  15.087034  12.262941   \n",
              "\n",
              "Year                               1999       2000  ...       2015       2016  \\\n",
              "Entity                                              ...                         \n",
              "Kuwait                        28.668217  27.590618  ...  23.651518  25.171660   \n",
              "Moldova                        1.088430   0.840384  ...   1.459015   1.520459   \n",
              "French Guiana                  3.310401   3.106944  ...   2.724782   2.725494   \n",
              "Democratic Republic of Congo   0.027896   0.018363  ...   0.035505   0.024734   \n",
              "Somalia                        0.058558   0.055035  ...   0.045787   0.044605   \n",
              "Estonia                       11.368203  11.096423  ...  12.054009  13.343702   \n",
              "Ukraine                        6.045774   5.837221  ...   4.975796   5.219492   \n",
              "Nauru                          8.803460   8.103077  ...   4.904078   4.474919   \n",
              "Syria                          3.255864   3.095552  ...   1.488407   1.529326   \n",
              "Singapore                     12.403977  11.938545  ...   9.993930   6.242084   \n",
              "\n",
              "Year                               2017       2018       2019       2020  \\\n",
              "Entity                                                                     \n",
              "Kuwait                        23.258196  22.478844  23.498793  22.882670   \n",
              "Moldova                        1.641404   1.733205   1.765773   1.701957   \n",
              "French Guiana                  2.624028   2.540044   2.534105   2.238595   \n",
              "Democratic Republic of Congo   0.029352   0.028385   0.028980   0.026740   \n",
              "Somalia                        0.042891   0.041369   0.039893   0.034968   \n",
              "Estonia                       14.240438  13.565124   9.329184   7.027731   \n",
              "Ukraine                        4.995539   5.212387   5.022646   4.712884   \n",
              "Nauru                          4.694226   4.599548   4.521224   4.701029   \n",
              "Syria                          1.717993   1.563605   1.367232   1.259343   \n",
              "Singapore                      6.445779   7.914610   5.099639   5.060936   \n",
              "\n",
              "Year                               2021      change   relative  \\\n",
              "Entity                                                           \n",
              "Kuwait                        24.972116 -342.955804 -93.212770   \n",
              "Moldova                        1.829657   -4.747214 -72.180437   \n",
              "French Guiana                  2.189799   -4.658923 -68.026164   \n",
              "Democratic Republic of Congo   0.027183   -0.057039 -67.724420   \n",
              "Somalia                        0.035766   -0.069331 -65.968200   \n",
              "Estonia                        7.864070  -13.941098 -63.934834   \n",
              "Ukraine                        4.637057   -7.604132 -62.119225   \n",
              "Nauru                          4.756323   -7.795415 -62.106257   \n",
              "Syria                          1.266193   -2.035315 -61.648032   \n",
              "Singapore                      5.471561   -8.703626 -61.400429   \n",
              "\n",
              "Year                                               country  \n",
              "Entity                                                      \n",
              "Kuwait                                              Kuwait  \n",
              "Moldova                                            Moldova  \n",
              "French Guiana                                French Guiana  \n",
              "Democratic Republic of Congo  Democratic Republic of Congo  \n",
              "Somalia                                            Somalia  \n",
              "Estonia                                            Estonia  \n",
              "Ukraine                                            Ukraine  \n",
              "Nauru                                                Nauru  \n",
              "Syria                                                Syria  \n",
              "Singapore                                        Singapore  \n",
              "\n",
              "[10 rows x 34 columns]"
            ],
            "text/html": [
              "\n",
              "  <div id=\"df-45e79f01-c3c9-483e-b4f8-3dbd7cb383b9\">\n",
              "    <div class=\"colab-df-container\">\n",
              "      <div>\n",
              "<style scoped>\n",
              "    .dataframe tbody tr th:only-of-type {\n",
              "        vertical-align: middle;\n",
              "    }\n",
              "\n",
              "    .dataframe tbody tr th {\n",
              "        vertical-align: top;\n",
              "    }\n",
              "\n",
              "    .dataframe thead th {\n",
              "        text-align: right;\n",
              "    }\n",
              "</style>\n",
              "<table border=\"1\" class=\"dataframe\">\n",
              "  <thead>\n",
              "    <tr style=\"text-align: right;\">\n",
              "      <th>Year</th>\n",
              "      <th>1991</th>\n",
              "      <th>1992</th>\n",
              "      <th>1993</th>\n",
              "      <th>1994</th>\n",
              "      <th>1995</th>\n",
              "      <th>1996</th>\n",
              "      <th>1997</th>\n",
              "      <th>1998</th>\n",
              "      <th>1999</th>\n",
              "      <th>2000</th>\n",
              "      <th>...</th>\n",
              "      <th>2015</th>\n",
              "      <th>2016</th>\n",
              "      <th>2017</th>\n",
              "      <th>2018</th>\n",
              "      <th>2019</th>\n",
              "      <th>2020</th>\n",
              "      <th>2021</th>\n",
              "      <th>change</th>\n",
              "      <th>relative</th>\n",
              "      <th>country</th>\n",
              "    </tr>\n",
              "    <tr>\n",
              "      <th>Entity</th>\n",
              "      <th></th>\n",
              "      <th></th>\n",
              "      <th></th>\n",
              "      <th></th>\n",
              "      <th></th>\n",
              "      <th></th>\n",
              "      <th></th>\n",
              "      <th></th>\n",
              "      <th></th>\n",
              "      <th></th>\n",
              "      <th></th>\n",
              "      <th></th>\n",
              "      <th></th>\n",
              "      <th></th>\n",
              "      <th></th>\n",
              "      <th></th>\n",
              "      <th></th>\n",
              "      <th></th>\n",
              "      <th></th>\n",
              "      <th></th>\n",
              "      <th></th>\n",
              "    </tr>\n",
              "  </thead>\n",
              "  <tbody>\n",
              "    <tr>\n",
              "      <th>Kuwait</th>\n",
              "      <td>367.927920</td>\n",
              "      <td>18.294262</td>\n",
              "      <td>29.709675</td>\n",
              "      <td>33.651417</td>\n",
              "      <td>32.980118</td>\n",
              "      <td>29.303770</td>\n",
              "      <td>31.036915</td>\n",
              "      <td>28.336819</td>\n",
              "      <td>28.668217</td>\n",
              "      <td>27.590618</td>\n",
              "      <td>...</td>\n",
              "      <td>23.651518</td>\n",
              "      <td>25.171660</td>\n",
              "      <td>23.258196</td>\n",
              "      <td>22.478844</td>\n",
              "      <td>23.498793</td>\n",
              "      <td>22.882670</td>\n",
              "      <td>24.972116</td>\n",
              "      <td>-342.955804</td>\n",
              "      <td>-93.212770</td>\n",
              "      <td>Kuwait</td>\n",
              "    </tr>\n",
              "    <tr>\n",
              "      <th>Moldova</th>\n",
              "      <td>6.576870</td>\n",
              "      <td>4.667079</td>\n",
              "      <td>3.526229</td>\n",
              "      <td>2.772321</td>\n",
              "      <td>2.556556</td>\n",
              "      <td>2.638051</td>\n",
              "      <td>1.661740</td>\n",
              "      <td>1.480139</td>\n",
              "      <td>1.088430</td>\n",
              "      <td>0.840384</td>\n",
              "      <td>...</td>\n",
              "      <td>1.459015</td>\n",
              "      <td>1.520459</td>\n",
              "      <td>1.641404</td>\n",
              "      <td>1.733205</td>\n",
              "      <td>1.765773</td>\n",
              "      <td>1.701957</td>\n",
              "      <td>1.829657</td>\n",
              "      <td>-4.747214</td>\n",
              "      <td>-72.180437</td>\n",
              "      <td>Moldova</td>\n",
              "    </tr>\n",
              "    <tr>\n",
              "      <th>French Guiana</th>\n",
              "      <td>6.848721</td>\n",
              "      <td>6.665894</td>\n",
              "      <td>6.828456</td>\n",
              "      <td>5.842478</td>\n",
              "      <td>5.276881</td>\n",
              "      <td>4.195408</td>\n",
              "      <td>3.765573</td>\n",
              "      <td>4.285594</td>\n",
              "      <td>3.310401</td>\n",
              "      <td>3.106944</td>\n",
              "      <td>...</td>\n",
              "      <td>2.724782</td>\n",
              "      <td>2.725494</td>\n",
              "      <td>2.624028</td>\n",
              "      <td>2.540044</td>\n",
              "      <td>2.534105</td>\n",
              "      <td>2.238595</td>\n",
              "      <td>2.189799</td>\n",
              "      <td>-4.658923</td>\n",
              "      <td>-68.026164</td>\n",
              "      <td>French Guiana</td>\n",
              "    </tr>\n",
              "    <tr>\n",
              "      <th>Democratic Republic of Congo</th>\n",
              "      <td>0.084222</td>\n",
              "      <td>0.073260</td>\n",
              "      <td>0.067263</td>\n",
              "      <td>0.040909</td>\n",
              "      <td>0.048598</td>\n",
              "      <td>0.052383</td>\n",
              "      <td>0.041842</td>\n",
              "      <td>0.036071</td>\n",
              "      <td>0.027896</td>\n",
              "      <td>0.018363</td>\n",
              "      <td>...</td>\n",
              "      <td>0.035505</td>\n",
              "      <td>0.024734</td>\n",
              "      <td>0.029352</td>\n",
              "      <td>0.028385</td>\n",
              "      <td>0.028980</td>\n",
              "      <td>0.026740</td>\n",
              "      <td>0.027183</td>\n",
              "      <td>-0.057039</td>\n",
              "      <td>-67.724420</td>\n",
              "      <td>Democratic Republic of Congo</td>\n",
              "    </tr>\n",
              "    <tr>\n",
              "      <th>Somalia</th>\n",
              "      <td>0.105097</td>\n",
              "      <td>0.105900</td>\n",
              "      <td>0.096730</td>\n",
              "      <td>0.090436</td>\n",
              "      <td>0.081695</td>\n",
              "      <td>0.076002</td>\n",
              "      <td>0.069639</td>\n",
              "      <td>0.063667</td>\n",
              "      <td>0.058558</td>\n",
              "      <td>0.055035</td>\n",
              "      <td>...</td>\n",
              "      <td>0.045787</td>\n",
              "      <td>0.044605</td>\n",
              "      <td>0.042891</td>\n",
              "      <td>0.041369</td>\n",
              "      <td>0.039893</td>\n",
              "      <td>0.034968</td>\n",
              "      <td>0.035766</td>\n",
              "      <td>-0.069331</td>\n",
              "      <td>-65.968200</td>\n",
              "      <td>Somalia</td>\n",
              "    </tr>\n",
              "    <tr>\n",
              "      <th>Estonia</th>\n",
              "      <td>21.805168</td>\n",
              "      <td>15.855051</td>\n",
              "      <td>12.921608</td>\n",
              "      <td>13.583890</td>\n",
              "      <td>12.435780</td>\n",
              "      <td>13.272953</td>\n",
              "      <td>13.144341</td>\n",
              "      <td>12.005937</td>\n",
              "      <td>11.368203</td>\n",
              "      <td>11.096423</td>\n",
              "      <td>...</td>\n",
              "      <td>12.054009</td>\n",
              "      <td>13.343702</td>\n",
              "      <td>14.240438</td>\n",
              "      <td>13.565124</td>\n",
              "      <td>9.329184</td>\n",
              "      <td>7.027731</td>\n",
              "      <td>7.864070</td>\n",
              "      <td>-13.941098</td>\n",
              "      <td>-63.934834</td>\n",
              "      <td>Estonia</td>\n",
              "    </tr>\n",
              "    <tr>\n",
              "      <th>Ukraine</th>\n",
              "      <td>12.241189</td>\n",
              "      <td>11.375081</td>\n",
              "      <td>9.853518</td>\n",
              "      <td>8.143090</td>\n",
              "      <td>7.635232</td>\n",
              "      <td>6.942628</td>\n",
              "      <td>6.781885</td>\n",
              "      <td>6.605106</td>\n",
              "      <td>6.045774</td>\n",
              "      <td>5.837221</td>\n",
              "      <td>...</td>\n",
              "      <td>4.975796</td>\n",
              "      <td>5.219492</td>\n",
              "      <td>4.995539</td>\n",
              "      <td>5.212387</td>\n",
              "      <td>5.022646</td>\n",
              "      <td>4.712884</td>\n",
              "      <td>4.637057</td>\n",
              "      <td>-7.604132</td>\n",
              "      <td>-62.119225</td>\n",
              "      <td>Ukraine</td>\n",
              "    </tr>\n",
              "    <tr>\n",
              "      <th>Nauru</th>\n",
              "      <td>12.551738</td>\n",
              "      <td>11.910166</td>\n",
              "      <td>11.082447</td>\n",
              "      <td>10.678065</td>\n",
              "      <td>10.280186</td>\n",
              "      <td>9.893153</td>\n",
              "      <td>9.877913</td>\n",
              "      <td>9.512308</td>\n",
              "      <td>8.803460</td>\n",
              "      <td>8.103077</td>\n",
              "      <td>...</td>\n",
              "      <td>4.904078</td>\n",
              "      <td>4.474919</td>\n",
              "      <td>4.694226</td>\n",
              "      <td>4.599548</td>\n",
              "      <td>4.521224</td>\n",
              "      <td>4.701029</td>\n",
              "      <td>4.756323</td>\n",
              "      <td>-7.795415</td>\n",
              "      <td>-62.106257</td>\n",
              "      <td>Nauru</td>\n",
              "    </tr>\n",
              "    <tr>\n",
              "      <th>Syria</th>\n",
              "      <td>3.301508</td>\n",
              "      <td>3.235058</td>\n",
              "      <td>3.340578</td>\n",
              "      <td>3.317626</td>\n",
              "      <td>2.878422</td>\n",
              "      <td>2.877322</td>\n",
              "      <td>3.004368</td>\n",
              "      <td>3.209970</td>\n",
              "      <td>3.255864</td>\n",
              "      <td>3.095552</td>\n",
              "      <td>...</td>\n",
              "      <td>1.488407</td>\n",
              "      <td>1.529326</td>\n",
              "      <td>1.717993</td>\n",
              "      <td>1.563605</td>\n",
              "      <td>1.367232</td>\n",
              "      <td>1.259343</td>\n",
              "      <td>1.266193</td>\n",
              "      <td>-2.035315</td>\n",
              "      <td>-61.648032</td>\n",
              "      <td>Syria</td>\n",
              "    </tr>\n",
              "    <tr>\n",
              "      <th>Singapore</th>\n",
              "      <td>14.175187</td>\n",
              "      <td>14.695797</td>\n",
              "      <td>14.894979</td>\n",
              "      <td>17.473871</td>\n",
              "      <td>11.441089</td>\n",
              "      <td>13.147368</td>\n",
              "      <td>15.087034</td>\n",
              "      <td>12.262941</td>\n",
              "      <td>12.403977</td>\n",
              "      <td>11.938545</td>\n",
              "      <td>...</td>\n",
              "      <td>9.993930</td>\n",
              "      <td>6.242084</td>\n",
              "      <td>6.445779</td>\n",
              "      <td>7.914610</td>\n",
              "      <td>5.099639</td>\n",
              "      <td>5.060936</td>\n",
              "      <td>5.471561</td>\n",
              "      <td>-8.703626</td>\n",
              "      <td>-61.400429</td>\n",
              "      <td>Singapore</td>\n",
              "    </tr>\n",
              "  </tbody>\n",
              "</table>\n",
              "<p>10 rows × 34 columns</p>\n",
              "</div>\n",
              "      <button class=\"colab-df-convert\" onclick=\"convertToInteractive('df-45e79f01-c3c9-483e-b4f8-3dbd7cb383b9')\"\n",
              "              title=\"Convert this dataframe to an interactive table.\"\n",
              "              style=\"display:none;\">\n",
              "        \n",
              "  <svg xmlns=\"http://www.w3.org/2000/svg\" height=\"24px\"viewBox=\"0 0 24 24\"\n",
              "       width=\"24px\">\n",
              "    <path d=\"M0 0h24v24H0V0z\" fill=\"none\"/>\n",
              "    <path d=\"M18.56 5.44l.94 2.06.94-2.06 2.06-.94-2.06-.94-.94-2.06-.94 2.06-2.06.94zm-11 1L8.5 8.5l.94-2.06 2.06-.94-2.06-.94L8.5 2.5l-.94 2.06-2.06.94zm10 10l.94 2.06.94-2.06 2.06-.94-2.06-.94-.94-2.06-.94 2.06-2.06.94z\"/><path d=\"M17.41 7.96l-1.37-1.37c-.4-.4-.92-.59-1.43-.59-.52 0-1.04.2-1.43.59L10.3 9.45l-7.72 7.72c-.78.78-.78 2.05 0 2.83L4 21.41c.39.39.9.59 1.41.59.51 0 1.02-.2 1.41-.59l7.78-7.78 2.81-2.81c.8-.78.8-2.07 0-2.86zM5.41 20L4 18.59l7.72-7.72 1.47 1.35L5.41 20z\"/>\n",
              "  </svg>\n",
              "      </button>\n",
              "      \n",
              "  <style>\n",
              "    .colab-df-container {\n",
              "      display:flex;\n",
              "      flex-wrap:wrap;\n",
              "      gap: 12px;\n",
              "    }\n",
              "\n",
              "    .colab-df-convert {\n",
              "      background-color: #E8F0FE;\n",
              "      border: none;\n",
              "      border-radius: 50%;\n",
              "      cursor: pointer;\n",
              "      display: none;\n",
              "      fill: #1967D2;\n",
              "      height: 32px;\n",
              "      padding: 0 0 0 0;\n",
              "      width: 32px;\n",
              "    }\n",
              "\n",
              "    .colab-df-convert:hover {\n",
              "      background-color: #E2EBFA;\n",
              "      box-shadow: 0px 1px 2px rgba(60, 64, 67, 0.3), 0px 1px 3px 1px rgba(60, 64, 67, 0.15);\n",
              "      fill: #174EA6;\n",
              "    }\n",
              "\n",
              "    [theme=dark] .colab-df-convert {\n",
              "      background-color: #3B4455;\n",
              "      fill: #D2E3FC;\n",
              "    }\n",
              "\n",
              "    [theme=dark] .colab-df-convert:hover {\n",
              "      background-color: #434B5C;\n",
              "      box-shadow: 0px 1px 3px 1px rgba(0, 0, 0, 0.15);\n",
              "      filter: drop-shadow(0px 1px 2px rgba(0, 0, 0, 0.3));\n",
              "      fill: #FFFFFF;\n",
              "    }\n",
              "  </style>\n",
              "\n",
              "      <script>\n",
              "        const buttonEl =\n",
              "          document.querySelector('#df-45e79f01-c3c9-483e-b4f8-3dbd7cb383b9 button.colab-df-convert');\n",
              "        buttonEl.style.display =\n",
              "          google.colab.kernel.accessAllowed ? 'block' : 'none';\n",
              "\n",
              "        async function convertToInteractive(key) {\n",
              "          const element = document.querySelector('#df-45e79f01-c3c9-483e-b4f8-3dbd7cb383b9');\n",
              "          const dataTable =\n",
              "            await google.colab.kernel.invokeFunction('convertToInteractive',\n",
              "                                                     [key], {});\n",
              "          if (!dataTable) return;\n",
              "\n",
              "          const docLinkHtml = 'Like what you see? Visit the ' +\n",
              "            '<a target=\"_blank\" href=https://colab.research.google.com/notebooks/data_table.ipynb>data table notebook</a>'\n",
              "            + ' to learn more about interactive tables.';\n",
              "          element.innerHTML = '';\n",
              "          dataTable['output_type'] = 'display_data';\n",
              "          await google.colab.output.renderOutput(dataTable, element);\n",
              "          const docLink = document.createElement('div');\n",
              "          docLink.innerHTML = docLinkHtml;\n",
              "          element.appendChild(docLink);\n",
              "        }\n",
              "      </script>\n",
              "    </div>\n",
              "  </div>\n",
              "  "
            ]
          },
          "metadata": {},
          "execution_count": 9
        }
      ]
    },
    {
      "cell_type": "code",
      "source": [
        "fig = plt.figure()\n",
        "fig, ax = plt.subplots()\n",
        "plt.gca().invert_yaxis()\n",
        "\n",
        "ax.bar(big_change.iloc[0:10, -1], big_change.iloc[0:10, -2])\n",
        "\n",
        "\n",
        "plt.xticks(rotation = 90)\n",
        "ax.yaxis.grid(True)\n",
        "ax.set_ylabel(\"% change in CO2 emissions\")\n",
        "ax.set_xlabel(\"Country\")\n",
        "ax.set_title(\"Top 10 Countries with Biggest Negative Overall Change in CO2 Emissions between 1991 and 2021\")"
      ],
      "metadata": {
        "colab": {
          "base_uri": "https://localhost:8080/",
          "height": 381
        },
        "id": "h061g74N88Uz",
        "outputId": "751aaacc-fee1-41bc-e1dd-7de9965fddbf"
      },
      "execution_count": null,
      "outputs": [
        {
          "output_type": "execute_result",
          "data": {
            "text/plain": [
              "Text(0.5, 1.0, 'Top 10 Countries with Biggest Negative Overall Change in CO2 Emissions between 1991 and 2021')"
            ]
          },
          "metadata": {},
          "execution_count": 10
        },
        {
          "output_type": "display_data",
          "data": {
            "text/plain": [
              "<Figure size 432x288 with 0 Axes>"
            ]
          },
          "metadata": {}
        },
        {
          "output_type": "display_data",
          "data": {
            "text/plain": [
              "<Figure size 432x288 with 1 Axes>"
            ],
            "image/png": "[encoded data removed]"
          },
          "metadata": {
            "needs_background": "light"
          }
        }
      ]
    },
    {
      "cell_type": "code",
      "source": [
        "fig1 = plt.figure()\n",
        "fig1, ax = plt.subplots()\n",
        "plt.gca().invert_yaxis()\n",
        "\n",
        "ax.bar(cap_big_change.iloc[0:10, -1], cap_big_change.iloc[0:10, -2])\n",
        "\n",
        "\n",
        "plt.xticks(rotation = 90)\n",
        "ax.yaxis.grid(True)\n",
        "ax.set_ylabel(\"Relative % change in CO2 emissions\")\n",
        "ax.set_xlabel(\"Country\")\n",
        "ax.set_title(\"Top 10 Countries with Biggest Negative Change per capita in CO2 Emissions between 1991 and 2021\")"
      ],
      "metadata": {
        "colab": {
          "base_uri": "https://localhost:8080/",
          "height": 473
        },
        "id": "S8BpI86BX_QC",
        "outputId": "c685fcfb-64a3-45c9-fbdd-a146411f1bca"
      },
      "execution_count": null,
      "outputs": [
        {
          "output_type": "execute_result",
          "data": {
            "text/plain": [
              "Text(0.5, 1.0, 'Top 10 Countries with Biggest Negative Change per capita in CO2 Emissions between 1991 and 2021')"
            ]
          },
          "metadata": {},
          "execution_count": 11
        },
        {
          "output_type": "display_data",
          "data": {
            "text/plain": [
              "<Figure size 432x288 with 0 Axes>"
            ]
          },
          "metadata": {}
        },
        {
          "output_type": "display_data",
          "data": {
            "text/plain": [
              "<Figure size 432x288 with 1 Axes>"
            ],
            "image/png": "[encoded data removed]"
          },
          "metadata": {
            "needs_background": "light"
          }
        }
      ]
    },
    {
      "cell_type": "markdown",
      "source": [
        "# 3. Which non-fossil fuel energy technology will have the best price in the future?\n",
        "\n"
      ],
      "metadata": {
        "id": "vD7-5FaJxxSU"
      }
    },
    {
      "cell_type": "code",
      "source": [
        "# Ingest energy costs data from github:\n",
        "df_bestprice = pd.read_csv('https://github.com/dragosequi/Winc_CO2/blob/main/levelized-cost-of-energy-2.csv')\n",
        "\n",
        "# Select data from the world:\n",
        "df_bestprice = df_bestprice.loc[df_bestprice['Entity']=='World']\n",
        "\n",
        "# Drop irrelevant columns:\n",
        "df_bestprice.drop(columns=['Code'], inplace=True)\n",
        "\n",
        "# Rename columns:\n",
        "df_bestprice.columns = ['entity', 'year', 'bioenergy', 'geothermal', 'offshore wind', 'solar photovoltaic', 'concentrated solar power', 'hydropower', 'onshore wind']\n",
        "\n",
        "# Order by year\n",
        "df_bestprice = df_bestprice.sort_values(by='year')\n",
        "\n",
        "df_bestprice"
      ],
      "metadata": {
        "id": "LGvdk-muEien"
      },
      "execution_count": null,
      "outputs": []
    },
    {
      "cell_type": "code",
      "source": [
        "# Create linear regression models and plot\n",
        "from sklearn.linear_model import LinearRegression\n",
        "\n",
        "sources = df_bestprice.columns[3:]\n",
        "\n",
        "# Create figure:\n",
        "fig, ax = plt.subplots()\n",
        "\n",
        "for source in sources:\n",
        "\n",
        "  # x and y from data\n",
        "  x = np.array(df_bestprice.loc[~df_bestprice[source].isna(),'year']).reshape((-1, 1))\n",
        "  y = np.array(df_bestprice.loc[~df_bestprice[source].isna(), source])\n",
        "\n",
        "  # create model:\n",
        "  model = LinearRegression().fit(x, y)\n",
        "\n",
        "  # predict y values for x values between 2010 and 2034\n",
        "  x_pred = np.array(range(2010,2034)).reshape((-1,1))\n",
        "  y_pred = model.predict(x_pred)\n",
        "\n",
        "  # Plot regression lines\n",
        "  # ax.scatter(x, y, label=source)\n",
        "  ax.plot(x_pred, y_pred, label=str(source)+\" predicted\")\n",
        "\n",
        "  # Show slopes\n",
        "  print(f\"slope {source}: {model.coef_}\")\n",
        "\n",
        "ax.legend(bbox_to_anchor=(1,1))\n",
        "ax.set_xlabel('year')\n",
        "ax.set_ylabel('(predicted) cost per KWH')\n",
        "fig.set_size_inches(10,8)\n",
        "\n",
        "# Conclusion: the costs for solar photovoltaic fall the most (0.029 per year)."
      ],
      "metadata": {
        "id": "Zdx2fPOYuRi7"
      },
      "execution_count": null,
      "outputs": []
    },
    {
      "cell_type": "code",
      "source": [
        "slope geothermal: [6.91564209e-05]\n",
        "slope offshore wind: [-0.00374143]\n",
        "slope solar photovoltaic: [-0.02916773]\n",
        "slope concentrated solar power: [-0.02177496]\n",
        "slope hydropower: [0.00082191]\n",
        "slope onshore wind: [-0.00661211]"
      ],
      "metadata": {
        "id": "hAKTaw-ousV2"
      },
      "execution_count": null,
      "outputs": []
    },
    {
      "cell_type": "markdown",
      "source": [
        "![Unknown-2.png](data:image/png;base64,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)"
      ],
      "metadata": {
        "id": "yVG9IQvIvMJA"
      }
    }
  ]
}